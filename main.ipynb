{
 "cells": [
  {
   "cell_type": "code",
   "execution_count": 5,
   "metadata": {},
   "outputs": [
    {
     "name": "stdout",
     "output_type": "stream",
     "text": [
      "23.419461727142334\n"
     ]
    }
   ],
   "source": [
    "import time\n",
    "from utils.openai import OpenAIService\n",
    "\n",
    "def read_file(file_name):\n",
    "    with open(file_name, \"r\", encoding=\"utf-8\") as file:\n",
    "       content = file.read()\n",
    "    return content\n",
    "start = time.time()\n",
    "prompt_text = f\"\"\"\n",
    "create a proper structured question and option from the given survey draft\n",
    "There will be relation across question for creating options and question\n",
    "resolve the dependency and give the question and option\n",
    "###survey draft\n",
    "{read_file(\"op_draft.txt\")}\n",
    "\"\"\"\n",
    "\n",
    "prompt =  {\"role\": \"user\", \"content\": prompt_text}\n",
    "\n",
    "output = (OpenAIService()).call_gpt([prompt])\n",
    "print(time.time() - start)\n",
    "\n",
    "with open(\"output.txt\", \"w\", encoding=\"utf-8\") as file:\n",
    "    file.write(output)\n",
    "    \n",
    "# output = read_file(\"output.txt\")\n",
    " \n"
   ]
  },
  {
   "cell_type": "code",
   "execution_count": 7,
   "metadata": {},
   "outputs": [
    {
     "name": "stdout",
     "output_type": "stream",
     "text": [
      "14.617050886154175\n"
     ]
    }
   ],
   "source": [
    "mermaid_prompt_text = f\"\"\"\n",
    "Your job is to create a mermaid js for the given set of survey question this is done to check the survey flow\n",
    "\n",
    "\n",
    "###output format\n",
    "Return only mermaid.js part no additional info/commentry should be present\n",
    "\n",
    "##instructions\n",
    " - DO NOT APPEND str like ```mermaid at the front and ``` at the end\n",
    " - DO not make **MISTAKE IN GENERATION MERMAID JS** like Parse issue due to paranthesis in label\n",
    " - Whenever they mention **quota** added it as a **layer in process flow**\n",
    "###survey question\n",
    "{output}\n",
    "\"\"\"\n",
    "\n",
    "mermaid_prompt =  {\"role\": \"user\", \"content\": mermaid_prompt_text}\n",
    "start = time.time()\n",
    "\n",
    "mermaid_output = (OpenAIService()).call_gpt([mermaid_prompt])\n",
    "print(time.time() - start)\n",
    "with open(\"mermaid_output_sample.txt\", \"w\", encoding=\"utf-8\") as file:\n",
    "    file.write(mermaid_output)"
   ]
  }
 ],
 "metadata": {
  "kernelspec": {
   "display_name": "Python 3",
   "language": "python",
   "name": "python3"
  },
  "language_info": {
   "codemirror_mode": {
    "name": "ipython",
    "version": 3
   },
   "file_extension": ".py",
   "mimetype": "text/x-python",
   "name": "python",
   "nbconvert_exporter": "python",
   "pygments_lexer": "ipython3",
   "version": "3.11.9"
  }
 },
 "nbformat": 4,
 "nbformat_minor": 2
}
